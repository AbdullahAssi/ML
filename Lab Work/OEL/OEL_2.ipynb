{
 "cells": [
  {
   "cell_type": "markdown",
   "metadata": {},
   "source": [
    "<h1>Task 1</h1>"
   ]
  },
  {
   "cell_type": "code",
   "execution_count": 19,
   "metadata": {},
   "outputs": [
    {
     "name": "stdout",
     "output_type": "stream",
     "text": [
      "Path from S to E: ['S', 'H', 'R', 'F', 'E']\n"
     ]
    }
   ],
   "source": [
    "import heapq\n",
    "\n",
    "class Node:\n",
    "    def __init__(self, state, parent=None, g_cost=0, h_cost=0):\n",
    "        self.state = state\n",
    "        self.parent = parent\n",
    "        self.g_cost = g_cost  \n",
    "        self.h_cost = h_cost  \n",
    "\n",
    "    def __lt__(self, other):\n",
    "        return (self.g_cost + self.h_cost) < (other.g_cost + other.h_cost)\n",
    "\n",
    "def a_star(start, goal, edges, heuristic=lambda state: 0):\n",
    "    open_set = [Node(start, None, 0, heuristic(start))]\n",
    "    closed_set = set()\n",
    "\n",
    "    while open_set:\n",
    "        current_node = heapq.heappop(open_set)\n",
    "\n",
    "        if current_node.state == goal:\n",
    "            path = []\n",
    "            while current_node:\n",
    "                path.append(current_node.state)\n",
    "                current_node = current_node.parent\n",
    "            return path[::-1]\n",
    "\n",
    "        closed_set.add(current_node.state)\n",
    "\n",
    "        for neighbor, cost in edges.get(current_node.state, []):\n",
    "            if neighbor not in closed_set:\n",
    "                g_cost = current_node.g_cost + cost\n",
    "                h_cost = heuristic(neighbor)\n",
    "                new_node = Node(neighbor, current_node, g_cost, h_cost)\n",
    "\n",
    "                if new_node not in open_set:\n",
    "                    heapq.heappush(open_set, new_node)\n",
    "\n",
    "    return None\n",
    "\n",
    "edges = {\n",
    "    'A': [('N', 1)],\n",
    "    'B': [('O', 1)],\n",
    "    'C': [('O', 1), ('D', 3)],\n",
    "    'D': [('C', 2)],\n",
    "    'E': [('P', 2), ('F', 2)],\n",
    "    'F': [('R', 1), ('E', 3)],\n",
    "    'H': [('J', 2), ('S', 0), ('R', 1)],\n",
    "    'I': [('J', 2)],\n",
    "    'J': [('H', 1), ('I', 3)],\n",
    "    'K': [('L', 2), ('S', 0)],\n",
    "    'L': [('M', 2), ('K', 1)],\n",
    "    'M': [('L', 2), ('N', 1)],\n",
    "    'N': [('A', 2), ('M', 2), ('S', 0)],\n",
    "    'O': [('C', 2), ('B', 2), ('S', 0), ('R', 1)],\n",
    "    'P': [('E', 3), ('R', 1)],\n",
    "    'Q': [('R', 1)],\n",
    "    'R': [('O', 1), ('S', 0), ('H', 1), ('F', 2)],\n",
    "    'S': [('H', 1)],     \n",
    "}\n",
    "\n",
    "start_state = 'S'\n",
    "goal_state = 'E'\n",
    "\n",
    "path = a_star(start_state, goal_state, edges)\n",
    "if path:\n",
    "    print(f\"Path from {start_state} to {goal_state}: {path}\")\n",
    "else:\n",
    "    print(f\"No path found from {start_state} to {goal_state}.\")\n"
   ]
  },
  {
   "cell_type": "markdown",
   "metadata": {},
   "source": [
    "<h1>Task 2</h1>"
   ]
  },
  {
   "cell_type": "code",
   "execution_count": 20,
   "metadata": {},
   "outputs": [
    {
     "name": "stdout",
     "output_type": "stream",
     "text": [
      "Shortest Path from B to H: ['B', 'A', 'F', 'G', 'I', 'H']\n"
     ]
    }
   ],
   "source": [
    "\n",
    "import heapq\n",
    "\n",
    "class Node:\n",
    "    def __init__(self, state, parent=None, g_cost=0, h_cost=0):\n",
    "        self.state = state\n",
    "        self.parent = parent\n",
    "        self.g_cost = g_cost  \n",
    "        self.h_cost = h_cost  \n",
    "\n",
    "    def __lt__(self, other):\n",
    "        return (self.g_cost + self.h_cost) < (other.g_cost + other.h_cost)\n",
    "\n",
    "def a_star(start, goal, edges, heuristic=lambda state: 0):\n",
    "    open_set = [Node(start, None, 0, heuristic(start))]\n",
    "    closed_set = set()\n",
    "\n",
    "    while open_set:\n",
    "        current_node = heapq.heappop(open_set)\n",
    "\n",
    "        if current_node.state == goal:\n",
    "            path = []\n",
    "            while current_node:\n",
    "                path.append(current_node.state)\n",
    "                current_node = current_node.parent\n",
    "            return path[::-1]\n",
    "\n",
    "        closed_set.add(current_node.state)\n",
    "\n",
    "        for neighbor, cost in edges.get(current_node.state, []):\n",
    "            if neighbor not in closed_set:\n",
    "                g_cost = current_node.g_cost + cost\n",
    "                h_cost = heuristic(neighbor)\n",
    "                new_node = Node(neighbor, current_node, g_cost, h_cost)\n",
    "\n",
    "                if new_node not in open_set:\n",
    "                    heapq.heappush(open_set, new_node)\n",
    "\n",
    "    return None  \n",
    "edges = {\n",
    "    'A': [('B', 6), ('F', 3)],\n",
    "    'B': [('A', 6), ('C', 3),('D', 2)],\n",
    "    'C': [('B', 3), ('D', 1),('E', 5)],\n",
    "    'D': [('B', 2),( 'C', 1),('E', 8)],\n",
    "    'E': [('C', 5), ('D', 8),('I', 5),('J', 5)],\n",
    "    'I': [('E', 5), ('J', 3),('G', 3),('H', 2)],\n",
    "    'J': [('I', 3), ('E', 5)],\n",
    "    'G': [('I', 3), ('F', 1)],\n",
    "    'F': [('A', 3), ('G', 1),('H', 7)],\n",
    "    'H': [('F', 7), ('I', 2)]\n",
    "\n",
    "}\n",
    "\n",
    "start_state = 'B'\n",
    "goal_state = 'H'\n",
    "path = a_star(start_state, goal_state, edges)\n",
    "if path:\n",
    "    print(f\"Shortest Path from {start_state} to {goal_state}: {path}\")\n",
    "else:\n",
    "    print(f\"No path found from {start_state} to {goal_state}.\")\n"
   ]
  }
 ],
 "metadata": {
  "kernelspec": {
   "display_name": "base",
   "language": "python",
   "name": "python3"
  },
  "language_info": {
   "codemirror_mode": {
    "name": "ipython",
    "version": 3
   },
   "file_extension": ".py",
   "mimetype": "text/x-python",
   "name": "python",
   "nbconvert_exporter": "python",
   "pygments_lexer": "ipython3",
   "version": "3.11.5"
  }
 },
 "nbformat": 4,
 "nbformat_minor": 2
}
