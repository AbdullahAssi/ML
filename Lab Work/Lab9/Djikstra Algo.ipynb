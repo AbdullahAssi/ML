{
 "cells": [
  {
   "cell_type": "code",
   "execution_count": 2,
   "metadata": {},
   "outputs": [
    {
     "name": "stdout",
     "output_type": "stream",
     "text": [
      "Shortest route from Memphis to Nashville:\n",
      "Memphis -> New Orleans -> Mobile -> Atlanta -> Nashville\n",
      "Total cost: 10\n"
     ]
    }
   ],
   "source": [
    "import heapq\n",
    "\n",
    "graph = {\n",
    "    'Memphis': {'Atlanta': 10, 'New Orleans': 3},\n",
    "    'Atlanta': {'Savannah': 1, 'Nashville': 2, 'Mobile': 2},\n",
    "    'Savannah': {},\n",
    "    'Nashville': {},\n",
    "    'New Orleans': {'Mobile': 3},\n",
    "    'Mobile': {'Atlanta': 2}\n",
    "}\n",
    "\n",
    "distances = {\n",
    "    'Memphis': float('inf'),\n",
    "    'Atlanta': float('inf'),\n",
    "    'Savannah': float('inf'),\n",
    "    'Nashville': float('inf'),\n",
    "    'New Orleans': float('inf'),\n",
    "    'Mobile': float('inf')\n",
    "}\n",
    "\n",
    "predecessors = {\n",
    "    'Memphis': None,\n",
    "    'Atlanta': None,\n",
    "    'Savannah': None,\n",
    "    'Nashville': None,\n",
    "    'New Orleans': None,\n",
    "    'Mobile': None\n",
    "}\n",
    "\n",
    "start = 'Memphis'\n",
    "distances[start] = 0\n",
    "\n",
    "pq = [(0, start)]\n",
    "while pq:\n",
    "    current_distance, current_node = heapq.heappop(pq)\n",
    "\n",
    "    if current_node == 'Nashville':\n",
    "        break\n",
    "\n",
    "    for neighbor, distance in graph[current_node].items():\n",
    "        new_distance = current_distance + distance\n",
    "        if new_distance < distances[neighbor]:\n",
    "            distances[neighbor] = new_distance\n",
    "            predecessors[neighbor] = current_node\n",
    "            heapq.heappush(pq, (new_distance, neighbor))\n",
    "\n",
    "path = []\n",
    "current_node = 'Nashville'\n",
    "while current_node is not None:\n",
    "    path.append(current_node)\n",
    "    current_node = predecessors[current_node]\n",
    "\n",
    "path.reverse()\n",
    "\n",
    "print(\"Shortest route from Memphis to Nashville:\")\n",
    "print(\" -> \".join(path))\n",
    "print(\"Total cost:\", distances['Nashville'])\n"
   ]
  }
 ],
 "metadata": {
  "kernelspec": {
   "display_name": "Python 3",
   "language": "python",
   "name": "python3"
  },
  "language_info": {
   "codemirror_mode": {
    "name": "ipython",
    "version": 3
   },
   "file_extension": ".py",
   "mimetype": "text/x-python",
   "name": "python",
   "nbconvert_exporter": "python",
   "pygments_lexer": "ipython3",
   "version": "3.11.5"
  }
 },
 "nbformat": 4,
 "nbformat_minor": 2
}
