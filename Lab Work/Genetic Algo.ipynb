{
 "cells": [
  {
   "cell_type": "code",
   "execution_count": 2,
   "metadata": {},
   "outputs": [
    {
     "ename": "SyntaxError",
     "evalue": "invalid syntax (2097269624.py, line 1)",
     "output_type": "error",
     "traceback": [
      "\u001b[1;36m  Cell \u001b[1;32mIn[2], line 1\u001b[1;36m\u001b[0m\n\u001b[1;33m    import %pip install numpy\u001b[0m\n\u001b[1;37m           ^\u001b[0m\n\u001b[1;31mSyntaxError\u001b[0m\u001b[1;31m:\u001b[0m invalid syntax\n"
     ]
    }
   ],
   "source": [
    "numpy as np\n",
    "\n",
    "# Step 1: Randomly initialize populations p\n",
    "def initialize_population(population_size, chromosome_length):\n",
    "    return np.random.randint(2, size=(population_size, chromosome_length))\n",
    "\n",
    "# Step 2: Determine fitness of population\n",
    "def calculate_fitness(population):\n",
    "    # Example fitness function: Count the number of ones in the chromosome\n",
    "    return np.sum(population, axis=1)\n",
    "\n",
    "# Step 3: Until convergence, repeat\n",
    "def genetic_algorithm(population_size, chromosome_length, generations):\n",
    "    population = initialize_population(population_size, chromosome_length)\n",
    "\n",
    "    for generation in range(generations):\n",
    "        # Step 3a: Select parents from the population\n",
    "        fitness = calculate_fitness(population)\n",
    "        probabilities = fitness / fitness.sum()\n",
    "        selected_indices = np.random.choice(np.arange(population_size), size=population_size, replace=True, p=probabilities)\n",
    "        parents = population[selected_indices]\n",
    "\n",
    "        # Step 3b: Crossover and generate a new population\n",
    "        crossover_point = np.random.randint(1, chromosome_length - 1, size=population_size)\n",
    "        offspring = np.empty_like(parents)\n",
    "        for i in range(population_size // 2):\n",
    "            parent1, parent2 = parents[i * 2], parents[i * 2 + 1]\n",
    "            crossover_point_i = crossover_point[i]\n",
    "            offspring[i * 2] = np.concatenate((parent1[:crossover_point_i], parent2[crossover_point_i:]))\n",
    "            offspring[i * 2 + 1] = np.concatenate((parent2[:crossover_point_i], parent1[crossover_point_i:]))\n",
    "\n",
    "        # Step 3c: Perform mutation on the new population\n",
    "        mutation_rate = 0.01\n",
    "        mutation_mask = np.random.rand(population_size, chromosome_length) < mutation_rate\n",
    "        offspring = np.logical_xor(offspring, mutation_mask)\n",
    "\n",
    "        # Step 3d: Calculate fitness for the new population\n",
    "        new_population = np.vstack((parents, offspring))\n",
    "        new_fitness = calculate_fitness(new_population)\n",
    "\n",
    "        # Update the population based on fitness\n",
    "        sorted_indices = np.argsort(new_fitness)[::-1]\n",
    "        population = new_population[sorted_indices[:population_size]]\n",
    "\n",
    "        # Print the best fitness in each generation\n",
    "        print(f\"Generation {generation + 1}: Best Fitness = {new_fitness.max()}\")\n",
    "\n",
    "    return population\n",
    "\n",
    "# Example usage\n",
    "population_size = 50\n",
    "chromosome_length = 10\n",
    "generations = 100\n",
    "final_population = genetic_algorithm(population_size, chromosome_length, generations)\n",
    "\n",
    "# Display the final population and its fitness\n",
    "final_fitness = calculate_fitness(final_population)\n",
    "best_individual = final_population[np.argmax(final_fitness)]\n",
    "print(\"\\nFinal Population:\")\n",
    "print(final_population)\n",
    "print(\"\\nFinal Fitness:\")\n",
    "print(final_fitness)\n",
    "print(\"\\nBest Individual:\")\n",
    "print(best_individual)\n"
   ]
  }
 ],
 "metadata": {
  "kernelspec": {
   "display_name": "Python 3",
   "language": "python",
   "name": "python3"
  },
  "language_info": {
   "codemirror_mode": {
    "name": "ipython",
    "version": 3
   },
   "file_extension": ".py",
   "mimetype": "text/x-python",
   "name": "python",
   "nbconvert_exporter": "python",
   "pygments_lexer": "ipython3",
   "version": "3.11.5"
  }
 },
 "nbformat": 4,
 "nbformat_minor": 2
}
