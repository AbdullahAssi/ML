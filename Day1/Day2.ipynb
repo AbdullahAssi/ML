{
 "cells": [
  {
   "cell_type": "markdown",
   "metadata": {},
   "source": [
    "\"*Task No 1*\""
   ]
  },
  {
   "cell_type": "code",
   "execution_count": null,
   "metadata": {},
   "outputs": [
    {
     "ename": "",
     "evalue": "",
     "output_type": "error",
     "traceback": [
      "\u001b[1;31mRunning cells with 'c:\\Users\\Abdullah's\\AppData\\Local\\Microsoft\\WindowsApps\\python3.10.exe' requires the ipykernel package.\n",
      "\u001b[1;31mRun the following command to install 'ipykernel' into the Python environment. \n",
      "\u001b[1;31mCommand: 'c:/Users/Abdullah's/AppData/Local/Microsoft/WindowsApps/python3.10.exe -m pip install ipykernel -U --user --force-reinstall'"
     ]
    }
   ],
   "source": [
    "#Task No 1(A)\n",
    "\n",
    "my_list = [1, 2, 'h', 4, \"Abdullah\"]\n",
    "print( \"Raw List =\" , my_list)\n",
    "\n",
    "my_list.insert(6,\"Zafar\")  # Insert \"Zafar\" at index 6\n",
    "print(\"List after inserting\" ,my_list)\n",
    "\n",
    "my_list.remove('h')  # Remove the value 'h' from the list\n",
    "print(\"List after removing \",my_list)\n",
    "\n",
    "\n",
    "my_list.pop(2) # Remove the value at index 2\n",
    "print(\"List after poping \",my_list)\n",
    "\n",
    "my_list.__len__() # Get the length of the list\n",
    "print(\"Length of the list is \",my_list.__len__())\n",
    "\n",
    "my_list.clear() # Clear the list\n",
    "print(\"List after clearing \",my_list)\n",
    "\n"
   ]
  },
  {
   "cell_type": "code",
   "execution_count": null,
   "metadata": {},
   "outputs": [
    {
     "ename": "",
     "evalue": "",
     "output_type": "error",
     "traceback": [
      "\u001b[1;31mRunning cells with 'c:\\Users\\Abdullah's\\AppData\\Local\\Microsoft\\WindowsApps\\python3.10.exe' requires the ipykernel package.\n",
      "\u001b[1;31mRun the following command to install 'ipykernel' into the Python environment. \n",
      "\u001b[1;31mCommand: 'c:/Users/Abdullah's/AppData/Local/Microsoft/WindowsApps/python3.10.exe -m pip install ipykernel -U --user --force-reinstall'"
     ]
    }
   ],
   "source": [
    "#Task No 1(B)\n",
    "\n",
    "my_dict = {\n",
    "    \"Python\": \"Mango\",\n",
    "    \"JS\": \"React\", \n",
    "    \"Java\": \"Spring\",\n",
    "    \"C++\": \"\"\n",
    "}\n",
    "\n",
    "#raw dictionary\n",
    "print(\"Raw Dictionary:\", my_dict)\n",
    "\n",
    "#dictionary items as key-value pairs\n",
    "print(\"Dictionary Items:\", my_dict.items())\n",
    "\n",
    "# dictionary keys\n",
    "print(\"Dictionary Keys:\", my_dict.keys())\n",
    "\n",
    "#  dictionary values\n",
    "print(\"Dictionary Values:\", my_dict.values())\n",
    "\n",
    "# length of the dictionary\n",
    "print(\"Dictionary Length:\", len(my_dict))\n",
    "\n",
    "# Access an item in the dictionary using a key\n",
    "print(\"Dictionary access items:\", my_dict[\"Python\"])\n",
    "\n",
    "# Remove an item from the dictionary using pop\n",
    "my_dict.pop(\"Python\")\n",
    "print(\"Dictionary after pop:\", my_dict)\n",
    "\n",
    "# Use get() to access an item with a default value if the key doesn't exist\n",
    "my_dict.get(\"python\", \"Not Found\")\n",
    "print(\"Using get():\", my_dict)\n",
    "\n",
    "# Change the value associated with a key in the dictionary\n",
    "my_dict[\"Python\"] = \"Django\"\n",
    "print(\"Modified Dictionary:\", my_dict)\n",
    "print(\"Fun Fact Dictionary seems the sister of JSON\")\n"
   ]
  },
  {
   "cell_type": "code",
   "execution_count": null,
   "metadata": {},
   "outputs": [
    {
     "ename": "",
     "evalue": "",
     "output_type": "error",
     "traceback": [
      "\u001b[1;31mRunning cells with 'c:\\Users\\Abdullah's\\AppData\\Local\\Microsoft\\WindowsApps\\python3.10.exe' requires the ipykernel package.\n",
      "\u001b[1;31mRun the following command to install 'ipykernel' into the Python environment. \n",
      "\u001b[1;31mCommand: 'c:/Users/Abdullah's/AppData/Local/Microsoft/WindowsApps/python3.10.exe -m pip install ipykernel -U --user --force-reinstall'"
     ]
    }
   ],
   "source": [
    "#Task No 1(C)\n",
    "\n",
    "my_tuple = (1, 2, 3, 4, \"a\", \"abdullah\")\n",
    "\n",
    "# original tuple\n",
    "print(\"Original Tuple:\", my_tuple)\n",
    "\n",
    "\n",
    "# length of the tuple \n",
    "length = len(my_tuple)\n",
    "print(\"Length of the Tuple inside variable:\", length)\n",
    "my_tuple.__len__()\n",
    "print(\"Length of the Tuple with function:\", length)\n",
    "\n",
    "# Access an item in the tuple using indexing\n",
    "item = my_tuple[5]\n",
    "print(\"Item at index 5:\", item)\n",
    "\n",
    "for item in my_tuple:\n",
    "    print(item)\n",
    "    \n",
    "# Check if item exists in tuple\n",
    "item_to_check = \"abdullah\"\n",
    "if item_to_check in my_tuple:\n",
    "    print(\"Item found in tuple\")\n",
    "else:\n",
    "    print(\"Item not found in tuple\")\n",
    "\n"
   ]
  },
  {
   "cell_type": "markdown",
   "metadata": {},
   "source": [
    "\"Task No 2\""
   ]
  },
  {
   "cell_type": "code",
   "execution_count": null,
   "metadata": {},
   "outputs": [
    {
     "ename": "",
     "evalue": "",
     "output_type": "error",
     "traceback": [
      "\u001b[1;31mRunning cells with 'c:\\Users\\Abdullah's\\AppData\\Local\\Microsoft\\WindowsApps\\python3.10.exe' requires the ipykernel package.\n",
      "\u001b[1;31mRun the following command to install 'ipykernel' into the Python environment. \n",
      "\u001b[1;31mCommand: 'c:/Users/Abdullah's/AppData/Local/Microsoft/WindowsApps/python3.10.exe -m pip install ipykernel -U --user --force-reinstall'"
     ]
    }
   ],
   "source": [
    "#Task No 2(A)\n",
    "\n",
    "num_1 = int (input (\"Enter the first number: \"))\n",
    "num_2 = int (input (\"Enter the second number: \"))\n",
    "\n",
    "sum = num_1 + num_2\n",
    "print(\"The sum of the two Number is :\",sum)"
   ]
  },
  {
   "cell_type": "code",
   "execution_count": null,
   "metadata": {},
   "outputs": [
    {
     "ename": "",
     "evalue": "",
     "output_type": "error",
     "traceback": [
      "\u001b[1;31mRunning cells with 'c:\\Users\\Abdullah's\\AppData\\Local\\Microsoft\\WindowsApps\\python3.10.exe' requires the ipykernel package.\n",
      "\u001b[1;31mRun the following command to install 'ipykernel' into the Python environment. \n",
      "\u001b[1;31mCommand: 'c:/Users/Abdullah's/AppData/Local/Microsoft/WindowsApps/python3.10.exe -m pip install ipykernel -U --user --force-reinstall'"
     ]
    }
   ],
   "source": [
    "#Task No 2(B)\n",
    "num = int(input(\"Enter a number: \"))\n",
    "\n",
    "if num > 0:\n",
    "    print(\"Positive\")\n",
    "elif num < 0:\n",
    "    print(\"Negative\")\n",
    "else:\n",
    "    print(\"Zero\")\n",
    "\n"
   ]
  },
  {
   "cell_type": "code",
   "execution_count": null,
   "metadata": {},
   "outputs": [
    {
     "ename": "",
     "evalue": "",
     "output_type": "error",
     "traceback": [
      "\u001b[1;31mRunning cells with 'c:\\Users\\Abdullah's\\AppData\\Local\\Microsoft\\WindowsApps\\python3.10.exe' requires the ipykernel package.\n",
      "\u001b[1;31mRun the following command to install 'ipykernel' into the Python environment. \n",
      "\u001b[1;31mCommand: 'c:/Users/Abdullah's/AppData/Local/Microsoft/WindowsApps/python3.10.exe -m pip install ipykernel -U --user --force-reinstall'"
     ]
    }
   ],
   "source": [
    "#Task No 2(C)\n",
    "num_1 = int (input (\"Enter the first number: \"))\n",
    "num_2 = int (input (\"Enter the second number: \"))\n",
    "num_3 = int (input (\"Enter the third number: \"))\n",
    "\n",
    "if num_1 > num_2 and num_1 > num_3:\n",
    "    print (\"The first number is the largest\")\n",
    "elif num_2 > num_1 and num_2 > num_3:\n",
    "    print (\"The second number is the largest\")\n",
    "elif num_3 > num_1 and num_3 > num_2:\n",
    "    print (\"The third number is the largest\")\n",
    "else:\n",
    "    print (\"The numbers are equal\")"
   ]
  },
  {
   "cell_type": "code",
   "execution_count": null,
   "metadata": {},
   "outputs": [
    {
     "ename": "",
     "evalue": "",
     "output_type": "error",
     "traceback": [
      "\u001b[1;31mRunning cells with 'c:\\Users\\Abdullah's\\AppData\\Local\\Microsoft\\WindowsApps\\python3.10.exe' requires the ipykernel package.\n",
      "\u001b[1;31mRun the following command to install 'ipykernel' into the Python environment. \n",
      "\u001b[1;31mCommand: 'c:/Users/Abdullah's/AppData/Local/Microsoft/WindowsApps/python3.10.exe -m pip install ipykernel -U --user --force-reinstall'"
     ]
    }
   ],
   "source": [
    "#Task No 2(D)\n",
    "num_1 = int (input (\"Enter the Number(1-7):\"))\n",
    "\n",
    "if(num_1 == 1):\n",
    "    print(\"Sunday\")\n",
    "elif(num_1 == 2):\n",
    "    print(\"Monday\")\n",
    "elif(num_1 == 3):\n",
    "    print(\"Tuesday\")\n",
    "elif(num_1 == 4):\n",
    "    print(\"Wednesday\")\n",
    "elif(num_1 == 5):\n",
    "    print(\"Thursday\")\n",
    "elif(num_1 == 6):\n",
    "    print(\"Friday\")\n",
    "elif(num_1 == 7):\n",
    "    print(\"Saturday\")\n",
    "else:\n",
    "    print(\"Invalid Input\")\n",
    "        "
   ]
  },
  {
   "cell_type": "markdown",
   "metadata": {},
   "source": [
    "\"*TASK NO 3*\"\n"
   ]
  },
  {
   "cell_type": "code",
   "execution_count": null,
   "metadata": {},
   "outputs": [
    {
     "ename": "",
     "evalue": "",
     "output_type": "error",
     "traceback": [
      "\u001b[1;31mRunning cells with 'c:\\Users\\Abdullah's\\AppData\\Local\\Microsoft\\WindowsApps\\python3.10.exe' requires the ipykernel package.\n",
      "\u001b[1;31mRun the following command to install 'ipykernel' into the Python environment. \n",
      "\u001b[1;31mCommand: 'c:/Users/Abdullah's/AppData/Local/Microsoft/WindowsApps/python3.10.exe -m pip install ipykernel -U --user --force-reinstall'"
     ]
    }
   ],
   "source": [
    "#Task No 3(A)\n",
    "def add(a, b):\n",
    "    return a + b\n",
    "\n",
    "def subtract(a, b):\n",
    "    return a - b\n",
    "\n",
    "def multiply(a, b):\n",
    "    return a * b\n",
    "\n",
    "def divide(a, b):\n",
    "    if b == 0:\n",
    "        return \"Division by zero is not allowed.\"\n",
    "    return a / b\n",
    "\n",
    "print(\"The menu is given below:\\n 1. Add\\n 2. Subtract\\n 3. Multiply\\n 4. Divide\\n 5. Exit\")\n",
    "\n",
    "input_num = int(input(\"Enter your choice: \"))\n",
    "\n",
    "if input_num == 5:\n",
    "    print(\"\\nExit\")\n",
    "elif input_num in (1, 2, 3, 4):\n",
    "    num_1 = float(input(\"\\nEnter the first number: \"))\n",
    "    num_2 = float(input(\"Enter the second number: \"))\n",
    "\n",
    "    if input_num == 1:\n",
    "        result = add(num_1, num_2)\n",
    "    elif input_num == 2:\n",
    "        result = subtract(num_1, num_2)\n",
    "    elif input_num == 3:\n",
    "        result = multiply(num_1, num_2)\n",
    "    elif input_num == 4:\n",
    "        result = divide(num_1, num_2)\n",
    "\n",
    "    print(\"Result:\", result)\n",
    "else:\n",
    "    print(\"Invalid choice. Please choose a valid option.\")\n"
   ]
  },
  {
   "cell_type": "code",
   "execution_count": null,
   "metadata": {},
   "outputs": [
    {
     "ename": "",
     "evalue": "",
     "output_type": "error",
     "traceback": [
      "\u001b[1;31mRunning cells with 'c:\\Users\\Abdullah's\\AppData\\Local\\Microsoft\\WindowsApps\\python3.10.exe' requires the ipykernel package.\n",
      "\u001b[1;31mRun the following command to install 'ipykernel' into the Python environment. \n",
      "\u001b[1;31mCommand: 'c:/Users/Abdullah's/AppData/Local/Microsoft/WindowsApps/python3.10.exe -m pip install ipykernel -U --user --force-reinstall'"
     ]
    }
   ],
   "source": [
    "#Task no 3(B)\n",
    "print(\"Palindrome String Example \\n \\n racecar \")\n",
    "\n",
    "def is_palindrome(s):\n",
    "    # Removing spaces and converting to lowercase to make the check case-insensitive and space-insensitive\n",
    "    s = s.replace(\" \", \"\").lower()\n",
    "    \n",
    "    # Comparing the original string with its reverse\n",
    "    return s == s[::-1]\n",
    "\n",
    "# Input string\n",
    "input_string = input(\"Enter a string: \")\n",
    "\n",
    "if is_palindrome(input_string):\n",
    "    print(\"It is a palindrome.\")\n",
    "else:\n",
    "    print(\"It is not a palindrome.\")\n"
   ]
  },
  {
   "cell_type": "code",
   "execution_count": null,
   "metadata": {},
   "outputs": [
    {
     "ename": "",
     "evalue": "",
     "output_type": "error",
     "traceback": [
      "\u001b[1;31mRunning cells with 'c:\\Users\\Abdullah's\\AppData\\Local\\Microsoft\\WindowsApps\\python3.10.exe' requires the ipykernel package.\n",
      "\u001b[1;31mRun the following command to install 'ipykernel' into the Python environment. \n",
      "\u001b[1;31mCommand: 'c:/Users/Abdullah's/AppData/Local/Microsoft/WindowsApps/python3.10.exe -m pip install ipykernel -U --user --force-reinstall'"
     ]
    }
   ],
   "source": [
    "#Task No 3(C)\n",
    "def factorial (n):\n",
    "    if n==0:\n",
    "        return 1\n",
    "    else:\n",
    "        return n*factorial(n-1)\n",
    "\n",
    "\n",
    "num = int(input(\"Enter a number to find a factorial: \"))\n",
    "\n",
    "if num<0:\n",
    "    print(\"Factorial does not exist for negative numbers\")\n",
    "else:\n",
    "    print(\"Factorial of\", num, \"is\", factorial(num))"
   ]
  },
  {
   "cell_type": "code",
   "execution_count": null,
   "metadata": {},
   "outputs": [
    {
     "ename": "",
     "evalue": "",
     "output_type": "error",
     "traceback": [
      "\u001b[1;31mRunning cells with 'c:\\Users\\Abdullah's\\AppData\\Local\\Microsoft\\WindowsApps\\python3.10.exe' requires the ipykernel package.\n",
      "\u001b[1;31mRun the following command to install 'ipykernel' into the Python environment. \n",
      "\u001b[1;31mCommand: 'c:/Users/Abdullah's/AppData/Local/Microsoft/WindowsApps/python3.10.exe -m pip install ipykernel -U --user --force-reinstall'"
     ]
    }
   ],
   "source": [
    "#task No 3(D)\n",
    "def are_lists_equal(list1, list2):\n",
    "    if len(list1) != len(list2):\n",
    "        return False\n",
    "    \n",
    "    # Sorting to compare both lists and compare\n",
    "    list1.sort()\n",
    "    list2.sort()\n",
    "    \n",
    "    return list1 == list2\n",
    "\n",
    "\n",
    "list1 = [1, 2, 3, 4, 5]\n",
    "list2 = [5, 4, 3, 2, 1,]\n",
    "\n",
    "if are_lists_equal(list1, list2):\n",
    "    print(\"The lists are equal.\")\n",
    "else:\n",
    "    print(\"The lists are not equal.\")\n"
   ]
  },
  {
   "cell_type": "markdown",
   "metadata": {},
   "source": [
    "#*TASK NO 4*\n"
   ]
  },
  {
   "cell_type": "code",
   "execution_count": null,
   "metadata": {},
   "outputs": [
    {
     "ename": "",
     "evalue": "",
     "output_type": "error",
     "traceback": [
      "\u001b[1;31mRunning cells with 'c:\\Users\\Abdullah's\\AppData\\Local\\Microsoft\\WindowsApps\\python3.10.exe' requires the ipykernel package.\n",
      "\u001b[1;31mRun the following command to install 'ipykernel' into the Python environment. \n",
      "\u001b[1;31mCommand: 'c:/Users/Abdullah's/AppData/Local/Microsoft/WindowsApps/python3.10.exe -m pip install ipykernel -U --user --force-reinstall'"
     ]
    }
   ],
   "source": [
    "#Task no 4(A)\n",
    "# Defining lambda functions \n",
    "double = lambda x: x * 2\n",
    "add = lambda x, y: x + y\n",
    "\n",
    "num = float(input(\"Enter a number: \"))\n",
    "\n",
    "doubled_num = double(num)\n",
    "result = add(num, 2)\n",
    "\n",
    "print(f\"Double of {num} is {doubled_num}\")\n",
    "print(f\"{num} + 2 = {result}\")\n"
   ]
  },
  {
   "cell_type": "code",
   "execution_count": null,
   "metadata": {},
   "outputs": [
    {
     "ename": "",
     "evalue": "",
     "output_type": "error",
     "traceback": [
      "\u001b[1;31mRunning cells with 'c:\\Users\\Abdullah's\\AppData\\Local\\Microsoft\\WindowsApps\\python3.10.exe' requires the ipykernel package.\n",
      "\u001b[1;31mRun the following command to install 'ipykernel' into the Python environment. \n",
      "\u001b[1;31mCommand: 'c:/Users/Abdullah's/AppData/Local/Microsoft/WindowsApps/python3.10.exe -m pip install ipykernel -U --user --force-reinstall'"
     ]
    }
   ],
   "source": [
    "#Task No 4(B)\n",
    "def is_even(number):\n",
    "    if number % 2 == 0:\n",
    "        return True\n",
    "    else:\n",
    "        return False\n",
    "\n",
    "numbers = [1, 2, 3, 4, 5, 6, 7, 8, 9]\n",
    "\n",
    "even_numbers = list(filter(is_even, numbers))\n",
    "\n",
    "\n",
    "print(\"Even Numbers: \", even_numbers)\n",
    "\n",
    "#lambda approach to filter\n",
    "print(\"Odd Numbers: \", list(filter(lambda number: not is_even(number), numbers)))\n",
    "\n"
   ]
  },
  {
   "cell_type": "code",
   "execution_count": null,
   "metadata": {},
   "outputs": [
    {
     "ename": "",
     "evalue": "",
     "output_type": "error",
     "traceback": [
      "\u001b[1;31mRunning cells with 'c:\\Users\\Abdullah's\\AppData\\Local\\Microsoft\\WindowsApps\\python3.10.exe' requires the ipykernel package.\n",
      "\u001b[1;31mRun the following command to install 'ipykernel' into the Python environment. \n",
      "\u001b[1;31mCommand: 'c:/Users/Abdullah's/AppData/Local/Microsoft/WindowsApps/python3.10.exe -m pip install ipykernel -U --user --force-reinstall'"
     ]
    }
   ],
   "source": [
    "#Task No 4(C)\n",
    "def double(x):\n",
    "    return x * 2\n",
    "\n",
    "\n",
    "numbers = [1, 2, 3, 4, 5]\n",
    "#mapping the double function to the numbers list\n",
    "doubles = map(double, numbers)\n",
    "\n",
    "print(\"Original numbers:\", numbers)\n",
    "print(\"Doubles:\", list(doubles))\n"
   ]
  },
  {
   "cell_type": "code",
   "execution_count": null,
   "metadata": {},
   "outputs": [
    {
     "ename": "",
     "evalue": "",
     "output_type": "error",
     "traceback": [
      "\u001b[1;31mRunning cells with 'c:\\Users\\Abdullah's\\AppData\\Local\\Microsoft\\WindowsApps\\python3.10.exe' requires the ipykernel package.\n",
      "\u001b[1;31mRun the following command to install 'ipykernel' into the Python environment. \n",
      "\u001b[1;31mCommand: 'c:/Users/Abdullah's/AppData/Local/Microsoft/WindowsApps/python3.10.exe -m pip install ipykernel -U --user --force-reinstall'"
     ]
    }
   ],
   "source": [
    "#Task No 4(D)\n",
    "from functools import reduce\n",
    "\n",
    "my_list = [1, 2, 3, 4, 5]\n",
    "\n",
    "# Using reduce() to find the sum of the numbers in the list\n",
    "sum_of_numbers = reduce(lambda x, y: x + y, my_list)\n",
    "\n",
    "print(\"The list is:\", my_list)\n",
    "print(\"The sum of the numbers in the list is:\", sum_of_numbers)\n"
   ]
  }
 ],
 "metadata": {
  "kernelspec": {
   "display_name": "Python 3",
   "language": "python",
   "name": "python3"
  },
  "language_info": {
   "name": "python",
   "version": "3.10.11"
  }
 },
 "nbformat": 4,
 "nbformat_minor": 2
}
