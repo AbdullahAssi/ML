{
 "cells": [
  {
   "cell_type": "code",
   "execution_count": 5,
   "metadata": {},
   "outputs": [
    {
     "name": "stdout",
     "output_type": "stream",
     "text": [
      "Hello World this is our First AI lab\n",
      "Even\n",
      "Greater than 10\n"
     ]
    }
   ],
   "source": [
    "print(\"Hello World this is our First AI lab\")\n",
    "c = int (input(\"Enter a number: \"))\n",
    "if c%2==0:\n",
    "    print(\"Even\")\n",
    "    if c>10:\n",
    "        print(\"Greater than 10\")\n",
    "    else:\n",
    "        print(\"Less than 10\")\n",
    "else:\n",
    "    print(\"Odd\")\n",
    "    if c>10:\n",
    "        print(\"Greater than 10\")\n",
    "    else:\n",
    "        print(\"Less than 10\")\n",
    "        "
   ]
  },
  {
   "cell_type": "code",
   "execution_count": 2,
   "metadata": {},
   "outputs": [
    {
     "name": "stdout",
     "output_type": "stream",
     "text": [
      "Your Name is  Muhammad Abdullah\n",
      "Your age is  20\n",
      "You are eligible to vote\n"
     ]
    }
   ],
   "source": [
    "name = input(\"Enter your name: \")\n",
    "print (\"Your Name is \", name)\n",
    "age = int(input(\"Enter your age: \"))\n",
    "print (\"Your age is \", age)\n",
    "if age>=18:\n",
    "    print(\"You are eligible to vote\")"
   ]
  },
  {
   "cell_type": "code",
   "execution_count": null,
   "metadata": {},
   "outputs": [
    {
     "ename": "",
     "evalue": "",
     "output_type": "error",
     "traceback": [
      "\u001b[1;31mRunning cells with 'c:\\Users\\Abdullah's\\AppData\\Local\\Microsoft\\WindowsApps\\python3.10.exe' requires the ipykernel package.\n",
      "\u001b[1;31mRun the following command to install 'ipykernel' into the Python environment. \n",
      "\u001b[1;31mCommand: 'c:/Users/Abdullah's/AppData/Local/Microsoft/WindowsApps/python3.10.exe -m pip install ipykernel -U --user --force-reinstall'"
     ]
    }
   ],
   "source": [
    "words = [\"Cat\", \"Dog\", \"Baby\"]\n",
    "for w in words:\n",
    "    print(w, len(w))\n",
    "    \n",
    "    \n",
    "users = {\n",
    "    'Hans': 'Active',\n",
    "    'Ali': 'Inactive',\n",
    "    'Ahmed': 'Active'\n",
    "}\n",
    "for user,status in users.items():\n",
    "    print(user, status)\n",
    "    active_users = []\n",
    "    inactive_users = []\n",
    "    if status == 'Active':\n",
    "        # print(\"Send Email to \", user)\n",
    "        active_users.append(user)\n",
    "    else:\n",
    "        # print(user)\n",
    "        inactive_users.append(user)\n",
    "        \n",
    "print(\"Active Users: \", active_users)\n",
    "print(\"Inactive Users: \", inactive_users)"
   ]
  },
  {
   "cell_type": "code",
   "execution_count": 10,
   "metadata": {},
   "outputs": [
    {
     "name": "stdout",
     "output_type": "stream",
     "text": [
      "23 x 1 = 23\n",
      "23 x 2 = 46\n",
      "23 x 3 = 69\n",
      "23 x 4 = 92\n",
      "23 x 5 = 115\n",
      "23 x 6 = 138\n",
      "23 x 7 = 161\n",
      "23 x 8 = 184\n",
      "23 x 9 = 207\n",
      "23 x 10 = 230\n",
      "23 x 11 = 253\n",
      "23 x 12 = 276\n",
      "23 x 13 = 299\n",
      "23 x 14 = 322\n",
      "23 x 15 = 345\n",
      "23 x 16 = 368\n",
      "23 x 17 = 391\n",
      "23 x 18 = 414\n",
      "23 x 19 = 437\n",
      "23 x 20 = 460\n",
      "23 x 21 = 483\n",
      "23 x 22 = 506\n",
      "23 x 23 = 529\n",
      "23 x 24 = 552\n",
      "23 x 25 = 575\n",
      "23 x 26 = 598\n",
      "23 x 27 = 621\n",
      "23 x 28 = 644\n",
      "23 x 29 = 667\n",
      "23 x 30 = 690\n",
      "23 x 31 = 713\n",
      "23 x 32 = 736\n",
      "23 x 33 = 759\n",
      "23 x 34 = 782\n",
      "23 x 35 = 805\n",
      "23 x 36 = 828\n",
      "23 x 37 = 851\n",
      "23 x 38 = 874\n",
      "23 x 39 = 897\n",
      "23 x 40 = 920\n",
      "23 x 41 = 943\n",
      "23 x 42 = 966\n",
      "23 x 43 = 989\n",
      "23 x 44 = 1012\n",
      "23 x 45 = 1035\n",
      "23 x 46 = 1058\n",
      "23 x 47 = 1081\n",
      "23 x 48 = 1104\n",
      "23 x 49 = 1127\n",
      "23 x 50 = 1150\n",
      "23 x 51 = 1173\n",
      "23 x 52 = 1196\n",
      "23 x 53 = 1219\n",
      "23 x 54 = 1242\n",
      "23 x 55 = 1265\n",
      "23 x 56 = 1288\n",
      "23 x 57 = 1311\n",
      "23 x 58 = 1334\n",
      "23 x 59 = 1357\n",
      "23 x 60 = 1380\n",
      "23 x 61 = 1403\n",
      "23 x 62 = 1426\n",
      "23 x 63 = 1449\n",
      "23 x 64 = 1472\n",
      "23 x 65 = 1495\n",
      "23 x 66 = 1518\n",
      "23 x 67 = 1541\n",
      "23 x 68 = 1564\n",
      "23 x 69 = 1587\n",
      "23 x 70 = 1610\n",
      "23 x 71 = 1633\n",
      "23 x 72 = 1656\n",
      "23 x 73 = 1679\n",
      "23 x 74 = 1702\n",
      "23 x 75 = 1725\n",
      "23 x 76 = 1748\n",
      "23 x 77 = 1771\n",
      "23 x 78 = 1794\n",
      "23 x 79 = 1817\n",
      "23 x 80 = 1840\n",
      "23 x 81 = 1863\n",
      "23 x 82 = 1886\n",
      "23 x 83 = 1909\n",
      "23 x 84 = 1932\n",
      "23 x 85 = 1955\n",
      "23 x 86 = 1978\n",
      "23 x 87 = 2001\n",
      "23 x 88 = 2024\n",
      "23 x 89 = 2047\n",
      "23 x 90 = 2070\n",
      "23 x 91 = 2093\n",
      "23 x 92 = 2116\n",
      "23 x 93 = 2139\n",
      "23 x 94 = 2162\n",
      "23 x 95 = 2185\n",
      "23 x 96 = 2208\n",
      "23 x 97 = 2231\n",
      "23 x 98 = 2254\n",
      "23 x 99 = 2277\n",
      "23 x 100 = 2300\n"
     ]
    }
   ],
   "source": [
    "c = int  (input(\"Enter a Number: \"))\n",
    "for i in range(1,101):\n",
    "    print(c, \"x\", i, \"=\", c*i)"
   ]
  },
  {
   "cell_type": "code",
   "execution_count": null,
   "metadata": {},
   "outputs": [],
   "source": [
    "\n",
    "prime =  int (input(\"Enter a number: \"))\n",
    "for num in range(2, prime):\n",
    "    for x in range (2,num):\n",
    "        if num % x == 0:\n",
    "            print(num , \"equals\",x , \"*\", num//x)\n",
    "        else:\n",
    "            print(num, \"is a prime number\")"
   ]
  },
  {
   "cell_type": "code",
   "execution_count": null,
   "metadata": {},
   "outputs": [],
   "source": [
    "num = int(input(\"Enter a number: \"))\n",
    "if num > 1:\n",
    "    for i in range(2,num):\n",
    "        if (num % i) == 0:\n",
    "            print(num, \"is not a prime number\")\n",
    "            print(i, \"times\", num//i, \"is\", num)\n",
    "            break\n",
    "        else:\n",
    "            print(num, \"is a prime number\")"
   ]
  },
  {
   "cell_type": "code",
   "execution_count": null,
   "metadata": {},
   "outputs": [],
   "source": [
    "inp = input(\"Enter a String: \").lower()  \n",
    "\n",
    "vowels = ['a', 'e', 'i', 'o', 'u']\n",
    "\n",
    "vow = []\n",
    "const = []\n",
    "\n",
    "for i in inp:\n",
    "    if i in vowels:\n",
    "        print(i, \"is a vowel\")\n",
    "        vow.append(i)\n",
    "    else:\n",
    "        print(i, \"is a consonant\")\n",
    "        const.append(i)\n",
    "\n",
    "print(\"Vowels:\", vow)\n",
    "print(\"Consonants:\", const)\n"
   ]
  }
 ],
 "metadata": {
  "kernelspec": {
   "display_name": "Python 3",
   "language": "python",
   "name": "python3"
  },
  "language_info": {
   "codemirror_mode": {
    "name": "ipython",
    "version": 3
   },
   "file_extension": ".py",
   "mimetype": "text/x-python",
   "name": "python",
   "nbconvert_exporter": "python",
   "pygments_lexer": "ipython3",
   "version": "3.10.11"
  }
 },
 "nbformat": 4,
 "nbformat_minor": 2
}
