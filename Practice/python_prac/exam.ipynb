{
 "cells": [
  {
   "cell_type": "code",
   "execution_count": 6,
   "metadata": {},
   "outputs": [
    {
     "name": "stdout",
     "output_type": "stream",
     "text": [
      "Last column:\n",
      "[[3]\n",
      " [6]\n",
      " [9]]\n",
      "Last 2 elements of the middle array:\n",
      "[5 6]\n"
     ]
    }
   ],
   "source": [
    "import numpy as np\n",
    "\n",
    "arr2d = np.array([[1, 2, 3],\n",
    "                  [4, 5, 6],\n",
    "                  [7, 8, 9]])\n",
    "\n",
    "# Slicing the last column\n",
    "last_column = arr2d[:, -1].reshape(-1, 1)\n",
    "print(\"Last column:\")\n",
    "print(last_column)\n",
    "\n",
    "# Slicing the last 2 elements of the middle array\n",
    "middle_row_last_two_elements = arr2d[1, -2:]\n",
    "print(\"Last 2 elements of the middle array:\")\n",
    "print(middle_row_last_two_elements)\n"
   ]
  },
  {
   "cell_type": "code",
   "execution_count": 7,
   "metadata": {},
   "outputs": [
    {
     "name": "stdout",
     "output_type": "stream",
     "text": [
      "Distance between point1 and point2: 5.0\n",
      "New location of point1: (1, 1)\n",
      "Distance of point1 from origin: 1.4142135623730951\n"
     ]
    }
   ],
   "source": [
    "import math\n",
    "\n",
    "class Point:\n",
    "    def __init__(self, x=0, y=0):\n",
    "        self.x = x\n",
    "        self.y = y\n",
    "\n",
    "    def distance(self, other):\n",
    "        \"\"\"Calculate the distance between this point and another point.\"\"\"\n",
    "        dx = self.x - other.x\n",
    "        dy = self.y - other.y\n",
    "        return math.sqrt(dx**2 + dy**2)\n",
    "\n",
    "    def set_location(self, x, y):\n",
    "        \"\"\"Set the location of the point.\"\"\"\n",
    "        self.x = x\n",
    "        self.y = y\n",
    "\n",
    "    def distance_from_origin(self):\n",
    "        \"\"\"Calculate the distance from the origin (0, 0).\"\"\"\n",
    "        return math.sqrt(self.x**2 + self.y**2)\n",
    "    \n",
    "    def __str__(self) -> str:\n",
    "        return \"(\" + str(self.x) + \", \" + str(self.y) + \")\"\n",
    "\n",
    "# Example usage:\n",
    "point1 = Point(3, 4)\n",
    "point2 = Point(6, 8)\n",
    "\n",
    "print(\"Distance between point1 and point2:\", point1.distance(point2))  # Output: 5.0\n",
    "\n",
    "point1.set_location(1, 1)\n",
    "print(\"New location of point1:\", (point1.x, point1.y))  # Output: (1, 1)\n",
    "\n",
    "print(\"Distance of point1 from origin:\", point1.distance_from_origin())  # Output: 1.4142135623730951\n"
   ]
  },
  {
   "cell_type": "code",
   "execution_count": 8,
   "metadata": {},
   "outputs": [
    {
     "name": "stdout",
     "output_type": "stream",
     "text": [
      "After addition: 1/8\n",
      "After multiplication: -3/64\n",
      "Using + operator: 5/4\n",
      "Using * operator: 3/8\n",
      "Using == operator: True\n",
      "Using < operator: True\n"
     ]
    }
   ],
   "source": [
    "import math\n",
    "\n",
    "class Fraction:\n",
    "    def __init__(self, numerator, denominator):\n",
    "        if denominator == 0:\n",
    "            raise ValueError(\"Denominator cannot be zero.\")\n",
    "        self.numerator = numerator\n",
    "        self.denominator = denominator\n",
    "        self.reduce()\n",
    "\n",
    "    def reduce(self):\n",
    "        \"\"\"Reduce the fraction to its simplest form.\"\"\"\n",
    "        gcd = math.gcd(self.numerator, self.denominator)\n",
    "        self.numerator //= gcd\n",
    "        self.denominator //= gcd\n",
    "        # Ensure the denominator is positive\n",
    "        if self.denominator < 0:\n",
    "            self.numerator = -self.numerator\n",
    "            self.denominator = -self.denominator\n",
    "\n",
    "    def add(self, other):\n",
    "        \"\"\"Add another fraction to this fraction.\"\"\"\n",
    "        new_numerator = self.numerator * other.denominator + other.numerator * self.denominator\n",
    "        new_denominator = self.denominator * other.denominator\n",
    "        self.numerator = new_numerator\n",
    "        self.denominator = new_denominator\n",
    "        self.reduce()\n",
    "\n",
    "    def multiply(self, other):\n",
    "        \"\"\"Multiply this fraction by another fraction.\"\"\"\n",
    "        self.numerator *= other.numerator\n",
    "        self.denominator *= other.denominator\n",
    "        self.reduce()\n",
    "\n",
    "    def __add__(self, other):\n",
    "        \"\"\"Override the + operator.\"\"\"\n",
    "        new_numerator = self.numerator * other.denominator + other.numerator * self.denominator\n",
    "        new_denominator = self.denominator * other.denominator\n",
    "        return Fraction(new_numerator, new_denominator)\n",
    "\n",
    "    def __mul__(self, other):\n",
    "        \"\"\"Override the * operator.\"\"\"\n",
    "        return Fraction(self.numerator * other.numerator, self.denominator * other.denominator)\n",
    "\n",
    "    def __eq__(self, other):\n",
    "        \"\"\"Override the == operator.\"\"\"\n",
    "        return self.numerator == other.numerator and self.denominator == other.denominator\n",
    "\n",
    "    def __lt__(self, other):\n",
    "        \"\"\"Override the < operator.\"\"\"\n",
    "        return self.numerator * other.denominator < other.numerator * self.denominator\n",
    "\n",
    "    def __str__(self):\n",
    "        \"\"\"String representation of the fraction.\"\"\"\n",
    "        return f\"{self.numerator}/{self.denominator}\"\n",
    "\n",
    "# Example usage:\n",
    "f1 = Fraction(1, 2)\n",
    "f2 = Fraction(-3, 8)\n",
    "\n",
    "# Adding fractions\n",
    "f1.add(f2)\n",
    "print(\"After addition:\", f1)  # Output: -1/8\n",
    "\n",
    "# Multiplying fractions\n",
    "f1.multiply(f2)\n",
    "print(\"After multiplication:\", f1)  # Output: -1/16\n",
    "\n",
    "# Using + operator\n",
    "f3 = Fraction(1, 2)\n",
    "f4 = Fraction(3, 4)\n",
    "print(\"Using + operator:\", f3 + f4)  # Output: 5/4\n",
    "\n",
    "# Using * operator\n",
    "print(\"Using * operator:\", f3 * f4)  # Output: 3/8\n",
    "\n",
    "# Using == operator\n",
    "f5 = Fraction(2, 4)\n",
    "print(\"Using == operator:\", f3 == f5)  # Output: True\n",
    "\n",
    "# Using < operator\n",
    "print(\"Using < operator:\", f3 < f4)  # Output: True\n"
   ]
  }
 ],
 "metadata": {
  "kernelspec": {
   "display_name": "Python 3",
   "language": "python",
   "name": "python3"
  },
  "language_info": {
   "codemirror_mode": {
    "name": "ipython",
    "version": 3
   },
   "file_extension": ".py",
   "mimetype": "text/x-python",
   "name": "python",
   "nbconvert_exporter": "python",
   "pygments_lexer": "ipython3",
   "version": "3.11.5"
  }
 },
 "nbformat": 4,
 "nbformat_minor": 2
}
