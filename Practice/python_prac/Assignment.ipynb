{
 "cells": [
  {
   "cell_type": "markdown",
   "metadata": {},
   "source": [
    "<center>\n",
    "<h2><b>Muhammad Abdullah</b></h2>\n",
    "<h2><b>F22607010</b></h2>\n",
    "</center>\n"
   ]
  },
  {
   "cell_type": "markdown",
   "metadata": {},
   "source": [
    "Write a Fraction class to represent rational numbers like 1/2 and -3/8.\n",
    " Fractions should always be stored in reduced form; for example, store 4/12 as 1/3 and 6/-9 as -2/3.\n",
    "\n",
    "Hint: A GCD (greatest common divisor) function may help.\n",
    "\n",
    " Define add and multiply methods that accept another Fraction as a parameter and modify the existing\n",
    "Fraction by adding/multiplying it by that parameter and display the result."
   ]
  },
  {
   "cell_type": "code",
   "execution_count": 3,
   "metadata": {},
   "outputs": [
    {
     "name": "stdout",
     "output_type": "stream",
     "text": [
      "1/2\n",
      "-3/8\n",
      "Simplified form of 4/6 = 2/3\n",
      "Sum of 1/2 and -3/8 = 1/8\n",
      "Product of 1/2 and -3/8 = -3/16\n"
     ]
    }
   ],
   "source": [
    "import math\n",
    "\n",
    "class RationalNumber:\n",
    "    def __init__(self, numerator, denominator):\n",
    "        if denominator == 0:\n",
    "            raise ValueError(\"Denominator cannot be zero\")\n",
    "        if denominator < 0:\n",
    "            numerator = -numerator\n",
    "            denominator = -denominator\n",
    "        self.numerator = numerator\n",
    "        self.denominator = denominator\n",
    "        self.simplify()\n",
    "        \n",
    "    def simplify(self):\n",
    "        gcd = self._gcd(self.numerator, self.denominator)\n",
    "        self.numerator //= gcd\n",
    "        self.denominator //= gcd\n",
    "        \n",
    "    def _gcd(self, a, b):\n",
    "        while b:\n",
    "            a, b = b, a % b\n",
    "        return a\n",
    "    \n",
    "    def __str__(self):\n",
    "        if self.denominator == 1:\n",
    "            return str(self.numerator)\n",
    "        else:\n",
    "            return f\"{self.numerator}/{self.denominator}\"\n",
    "    \n",
    "    def add(self, fraction):\n",
    "        self.numerator = self.numerator * fraction.denominator + fraction.numerator * self.denominator\n",
    "        self.denominator = self.denominator * fraction.denominator\n",
    "        self.simplify()\n",
    "\n",
    "    def multiply(self, fraction):\n",
    "        self.numerator = self.numerator * fraction.numerator\n",
    "        self.denominator = self.denominator * fraction.denominator\n",
    "        self.simplify()\n",
    "\n",
    "num = RationalNumber(1, 2)\n",
    "print(num)  \n",
    "\n",
    "num2 = RationalNumber(-3, 8)\n",
    "print(num2)\n",
    "\n",
    "num3 = RationalNumber(4, 6)\n",
    "print(f\"Simplified form of 4/6 = {num3}\")\n",
    "\n",
    "num4 = RationalNumber(1, 2)\n",
    "num4.add(num2)\n",
    "print(f\"Sum of 1/2 and -3/8 = {num4}\")\n",
    "\n",
    "num5 = RationalNumber(1, 2)\n",
    "num5.multiply(num2)\n",
    "print(f\"Product of 1/2 and -3/8 = {num5}\")\n"
   ]
  },
  {
   "cell_type": "markdown",
   "metadata": {},
   "source": [
    "Define +, *, ==, and < operators. Reference to slide number 12 (Operator over loading)"
   ]
  },
  {
   "cell_type": "code",
   "execution_count": 4,
   "metadata": {},
   "outputs": [
    {
     "name": "stdout",
     "output_type": "stream",
     "text": [
      "Sum of 1/2 and -3/8 = 1/8\n",
      "Product of 1/2 and -3/8 = -3/16\n",
      "1/2 == -3/8: False\n",
      "1/2 < -3/8: False\n"
     ]
    }
   ],
   "source": [
    "import math\n",
    "\n",
    "class RationalNumber:\n",
    "    def __init__(self, numerator, denominator):\n",
    "        if denominator == 0:\n",
    "            raise ValueError(\"Denominator cannot be zero\")\n",
    "        if denominator < 0:\n",
    "            numerator = -numerator\n",
    "            denominator = -denominator\n",
    "        self.numerator = numerator\n",
    "        self.denominator = denominator\n",
    "        self.simplify()\n",
    "        \n",
    "    def simplify(self):\n",
    "        gcd = self._gcd(self.numerator, self.denominator)\n",
    "        self.numerator //= gcd\n",
    "        self.denominator //= gcd\n",
    "        \n",
    "    def _gcd(self, a, b):\n",
    "        while b:\n",
    "            a, b = b, a % b\n",
    "        return a\n",
    "    \n",
    "    def __str__(self):\n",
    "        if self.denominator == 1:\n",
    "            return str(self.numerator)\n",
    "        else:\n",
    "            return f\"{self.numerator}/{self.denominator}\"\n",
    "    \n",
    "    def add(self, fraction):\n",
    "        self.numerator = self.numerator * fraction.denominator + fraction.numerator * self.denominator\n",
    "        self.denominator = self.denominator * fraction.denominator\n",
    "        self.simplify()\n",
    "\n",
    "    def multiply(self, fraction):\n",
    "        self.numerator = self.numerator * fraction.numerator\n",
    "        self.denominator = self.denominator * fraction.denominator\n",
    "        self.simplify()\n",
    "\n",
    "    # Addition operator overload\n",
    "    def __add__(self, fraction):\n",
    "        result = RationalNumber(self.numerator * fraction.denominator + fraction.numerator * self.denominator,\n",
    "                                self.denominator * fraction.denominator)\n",
    "        result.simplify()\n",
    "        return result\n",
    "\n",
    "    # Multiplication operator overload\n",
    "    def __mul__(self, fraction):\n",
    "        result = RationalNumber(self.numerator * fraction.numerator,\n",
    "                                self.denominator * fraction.denominator)\n",
    "        result.simplify()\n",
    "        return result\n",
    "\n",
    "    # Equality operator overload\n",
    "    def __eq__(self, fraction):\n",
    "        return self.numerator * fraction.denominator == fraction.numerator * self.denominator\n",
    "\n",
    "    # Less than operator overload\n",
    "    def __lt__(self, fraction):\n",
    "        return self.numerator * fraction.denominator < fraction.numerator * self.denominator\n",
    "\n",
    "# Example usage\n",
    "num = RationalNumber(1, 2)\n",
    "num2 = RationalNumber(-3, 8)\n",
    "\n",
    "# Addition\n",
    "sum_result = num + num2\n",
    "print(f\"Sum of {num} and {num2} = {sum_result}\")\n",
    "\n",
    "# Multiplication\n",
    "product_result = num * num2\n",
    "print(f\"Product of {num} and {num2} = {product_result}\")\n",
    "\n",
    "# Equality\n",
    "print(f\"{num} == {num2}: {num == num2}\")\n",
    "\n",
    "# Less than\n",
    "print(f\"{num} < {num2}: {num < num2}\")\n"
   ]
  }
 ],
 "metadata": {
  "kernelspec": {
   "display_name": "Python 3",
   "language": "python",
   "name": "python3"
  },
  "language_info": {
   "codemirror_mode": {
    "name": "ipython",
    "version": 3
   },
   "file_extension": ".py",
   "mimetype": "text/x-python",
   "name": "python",
   "nbconvert_exporter": "python",
   "pygments_lexer": "ipython3",
   "version": "3.11.5"
  }
 },
 "nbformat": 4,
 "nbformat_minor": 2
}
