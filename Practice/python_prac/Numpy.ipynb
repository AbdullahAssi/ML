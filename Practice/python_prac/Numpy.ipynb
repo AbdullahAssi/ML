{
 "cells": [
  {
   "cell_type": "markdown",
   "metadata": {},
   "source": [
    "<center>\n",
    "<h2><b>Muhammad Abdullah</b></h2>\n",
    "<h2><b>F22607010</b></h2>\n",
    "</center>\n"
   ]
  },
  {
   "cell_type": "code",
   "execution_count": 16,
   "metadata": {},
   "outputs": [
    {
     "name": "stdout",
     "output_type": "stream",
     "text": [
      "Indices of maximum values along axis 1: [0 1 2]\n",
      "Indices of minimum values along axis 1: [1 0 0]\n"
     ]
    }
   ],
   "source": [
    "import numpy  as np\n",
    "\n",
    "arr = np.array([[30, 2, 3],\n",
    "                [4, 15, 6],\n",
    "                [7, 8, 9]])\n",
    "\n",
    "max_indices = np.argmax(arr, axis=1)\n",
    "min_indices = np.argmin(arr, axis=1)\n",
    "\n",
    "print(\"Indices of maximum values along axis 1:\", max_indices)\n",
    "print(\"Indices of minimum values along axis 1:\", min_indices)\n"
   ]
  },
  {
   "cell_type": "code",
   "execution_count": 4,
   "metadata": {},
   "outputs": [
    {
     "name": "stdout",
     "output_type": "stream",
     "text": [
      "Arrays are equal: True\n"
     ]
    }
   ],
   "source": [
    "arr1 = np.array([1, 2, 3])\n",
    "arr2 = np.array([1, 2, 3])\n",
    "\n",
    "comparison = np.array_equal(arr1, arr2)\n",
    "\n",
    "print(\"Arrays are equal:\", comparison)\n"
   ]
  },
  {
   "cell_type": "code",
   "execution_count": 17,
   "metadata": {},
   "outputs": [
    {
     "name": "stdout",
     "output_type": "stream",
     "text": [
      "[1 2 0]\n",
      "['Zohaib' 'Moeez' 'Abdullah']\n",
      "['Afzaal' 'Ahmad' 'Zafar']\n"
     ]
    }
   ],
   "source": [
    "\n",
    "first_names = np.array(['Abdullah', 'Zohaib', 'Moeez'])\n",
    "last_names = np.array(['Zafar', 'Afzaal', 'Ahmad', ])\n",
    "\n",
    "\n",
    "sorted_indices = np.lexsort((first_names, last_names))\n",
    "print(sorted_indices)\n",
    "\n",
    "sorted_first_names = first_names[sorted_indices]\n",
    "sorted_last_names = last_names[sorted_indices]\n",
    "\n",
    "print(sorted_first_names)\n",
    "print(sorted_last_names)"
   ]
  },
  {
   "cell_type": "code",
   "execution_count": 11,
   "metadata": {},
   "outputs": [
    {
     "name": "stdout",
     "output_type": "stream",
     "text": [
      "[[4 0 0 0]\n",
      " [0 5 0 0]\n",
      " [0 0 6 0]\n",
      " [0 0 0 8]]\n"
     ]
    }
   ],
   "source": [
    "\n",
    "diagnoal_Val = [4, 5, 6, 8]\n",
    "\n",
    "result_array = np.diag(diagnoal_Val)\n",
    "\n",
    "print(result_array)\n"
   ]
  },
  {
   "cell_type": "code",
   "execution_count": 9,
   "metadata": {},
   "outputs": [
    {
     "name": "stdout",
     "output_type": "stream",
     "text": [
      "[ 2  4  6  8 10]\n"
     ]
    }
   ],
   "source": [
    "\n",
    "def filter_even_elements(arr):\n",
    "    return arr[arr % 2 == 0]\n",
    "\n",
    "arr = np.array([1, 2, 3, 4, 5, 6, 7, 8, 9, 10])\n",
    "filtered_arr = filter_even_elements(arr)\n",
    "print(filtered_arr)"
   ]
  },
  {
   "cell_type": "code",
   "execution_count": 13,
   "metadata": {},
   "outputs": [
    {
     "name": "stdout",
     "output_type": "stream",
     "text": [
      "Orginal Array =  [-10  -9  -8  -7  -6  -5  -4  -3  -2  -1   0   1   2   3   4   5   6   7\n",
      "   8   9  10]\n",
      "[ 1  2  3  4  5  6  7  8  9 10]\n"
     ]
    }
   ],
   "source": [
    "\n",
    "array = np.arange(-10, 11)\n",
    "print(\"Orginal Array = \",array)\n",
    "\n",
    "positive_array = array[array > 0]\n",
    "print(positive_array)\n"
   ]
  },
  {
   "cell_type": "code",
   "execution_count": 14,
   "metadata": {},
   "outputs": [
    {
     "name": "stdout",
     "output_type": "stream",
     "text": [
      "3-D array:\n",
      "[[[ 1  2  3]\n",
      "  [ 4  5  6]\n",
      "  [ 7  8  9]]\n",
      "\n",
      " [[10 11 12]\n",
      "  [13 14 15]\n",
      "  [16 17 18]]\n",
      "\n",
      " [[19 20 21]\n",
      "  [22 23 24]\n",
      "  [25 26 27]]]\n",
      "\n",
      "Diagonals from each 2-D slice:\n",
      "[[ 1  5  9]\n",
      " [10 14 18]\n",
      " [19 23 27]]\n"
     ]
    }
   ],
   "source": [
    "\n",
    "array_3d = np.arange(1, 28).reshape((3, 3, 3))\n",
    "\n",
    "diagonals = np.array([np.diag(array_3d[i]) for i in range(array_3d.shape[0])])\n",
    "\n",
    "\n",
    "print(\"3-D array:\")\n",
    "print(array_3d)\n",
    "\n",
    "print(\"\\nDiagonals from each 2-D slice:\")\n",
    "print(diagonals)\n"
   ]
  }
 ],
 "metadata": {
  "kernelspec": {
   "display_name": "Python 3",
   "language": "python",
   "name": "python3"
  },
  "language_info": {
   "codemirror_mode": {
    "name": "ipython",
    "version": 3
   },
   "file_extension": ".py",
   "mimetype": "text/x-python",
   "name": "python",
   "nbconvert_exporter": "python",
   "pygments_lexer": "ipython3",
   "version": "3.11.5"
  }
 },
 "nbformat": 4,
 "nbformat_minor": 2
}
