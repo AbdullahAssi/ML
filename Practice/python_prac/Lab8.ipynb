{
 "cells": [
  {
   "cell_type": "code",
   "execution_count": 11,
   "metadata": {},
   "outputs": [
    {
     "name": "stdout",
     "output_type": "stream",
     "text": [
      "Teaching Subject: Python\n"
     ]
    }
   ],
   "source": [
    "class Person:\n",
    "    def __init__(self,Age,Name,Address):\n",
    "        self.Age = Age\n",
    "        self.Name = Name\n",
    "        self.address = Address\n",
    "        \n",
    "    def Display_info(self):\n",
    "        return print(f\"Name: {self.Name}\\nAge: {self.Age}\\nAddress: {self.address}\")\n",
    "\n",
    "# //creating a subclass named employee\n",
    "class Employee(Person):\n",
    "    def __init__(self, Age, Name, Address, Employee_id,Department ,Salary):\n",
    "        super().__init__(Age, Name, Address)\n",
    "        self.Employee_id = Employee_id\n",
    "        self.Department = Department\n",
    "        self.Salary = Salary\n",
    "        \n",
    "    def Display_info(self):\n",
    "        return print(f\"Name: {self.Name}\\nAge: {self.Age}\\nAddress: {self.address}\\nEmployee ID: {self.Employee_id}\\nDepartment: {self.Department}\\nSalary: {self.Salary}\")\n",
    "\n",
    "\n",
    "    def calculate_salary(self):\n",
    "        return print(f\"Monthly Salary: {self.Salary/12}\")\n",
    "    \n",
    "\n",
    "# //creating a subclass named faculty    \n",
    "class Faculty(Employee):\n",
    "    def __init__(self, Age, Name, Address, Employee_id, Department, Salary, teaching_subject):\n",
    "        super().__init__(Age, Name, Address, Employee_id, Department, Salary)\n",
    "        self.teaching_subject = teaching_subject\n",
    "        \n",
    "    def teach_course(self):\n",
    "        print(f\"Teaching Subject: {self.teaching_subject}\")\n",
    "    \n",
    "\n",
    "class Student(Person):\n",
    "    def __init__(self, Age, Name, Address, Student_id, major, gpa):\n",
    "        super().__init__(Age, Name, Address)\n",
    "        self.Student_id = Student_id\n",
    "        self.major = major\n",
    "        self.gpa = gpa\n",
    "                \n",
    "    def display_academices(self):\n",
    "        print(f\"Student ID:{self.Student_id}\\nStudent_Major:{self.major}\\nStudent GPA{self.gpa}\")\n",
    "\n",
    "        \n",
    "\n",
    "\n",
    "\n",
    "# me = Person(\"21\",\"Abdullah\", \"Islamabad\")\n",
    "# me.Display_info()\n",
    "emp = Employee(\"21\",\"Abdullah\", \"Islamabad\",\"1234\",\"IT\",\"100000\")\n",
    "emp.calculate_salary()\n",
    "emp.Display_info()\n",
    "\n",
    "fac = Faculty(\"21\",\"Abdullah\", \"Islamabad\",\"1234\",\"IT\",\"100000\",\"Python\")\n",
    "fac.teach_course()\n",
    "\n",
    "student = Student\n",
    "\n"
   ]
  }
 ],
 "metadata": {
  "kernelspec": {
   "display_name": "Python 3",
   "language": "python",
   "name": "python3"
  },
  "language_info": {
   "codemirror_mode": {
    "name": "ipython",
    "version": 3
   },
   "file_extension": ".py",
   "mimetype": "text/x-python",
   "name": "python",
   "nbconvert_exporter": "python",
   "pygments_lexer": "ipython3",
   "version": "3.11.5"
  }
 },
 "nbformat": 4,
 "nbformat_minor": 2
}
