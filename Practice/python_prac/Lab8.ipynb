{
 "cells": [
  {
   "cell_type": "markdown",
   "metadata": {},
   "source": [
    "<center>\n",
    "<h2><b>Muhammad Abdullah</b></h2>\n",
    "<h2><b>F22607010</b></h2>\n",
    "</center>"
   ]
  },
  {
   "cell_type": "code",
   "execution_count": 5,
   "metadata": {},
   "outputs": [
    {
     "name": "stdout",
     "output_type": "stream",
     "text": [
      "Name: Muhammad Abdullah\n",
      "Age: 21\n",
      "Address: Islamabad, Pakistan\n",
      "\n",
      "Employee ID: E9342\n",
      "Department: Web Development\n",
      "Monthly Salary: 41666.67 PKR\n",
      "\n",
      "Employee ID: F0100\n",
      "Department: CS\n",
      "Monthly Salary: 583333.33 PKR\n",
      "\n",
      "Student ID: F22607010\n",
      "Major: Artificial Intelligence\n",
      "GPA: 3.56\n",
      "\n"
     ]
    }
   ],
   "source": [
    "class Person:\n",
    "    def __init__(self, name, age, address):\n",
    "        self.name = name\n",
    "        self.age = age\n",
    "        self.address = address\n",
    "    \n",
    "    def display_info(self):\n",
    "        print(f\"Name: {self.name}\")\n",
    "        print(f\"Age: {self.age}\")\n",
    "        print(f\"Address: {self.address}\")\n",
    "\n",
    "\n",
    "class Employee(Person):\n",
    "    def __init__(self, name, age, address, employee_id, department, salary):\n",
    "        super().__init__(name, age, address)\n",
    "        self.employee_id = employee_id\n",
    "        self.department = department\n",
    "        self.salary = salary\n",
    "    \n",
    "    def calculate_salary(self):\n",
    "        monthly_salary_pkr = self.salary / 12 \n",
    "        print(f\"Employee ID: {self.employee_id}\")\n",
    "        print(f\"Department: {self.department}\")\n",
    "        print(f\"Monthly Salary: {monthly_salary_pkr:.2f} PKR\")\n",
    "\n",
    "\n",
    "class Faculty(Employee):\n",
    "    def __init__(self, name, age, address, employee_id, department, salary, teaching_subject):\n",
    "        super().__init__(name, age, address, employee_id, department, salary)\n",
    "        self.teaching_subject = teaching_subject\n",
    "    \n",
    "    def teach_course(self):\n",
    "        print(f\"Teaching Subject: {self.teaching_subject}\")\n",
    "\n",
    "\n",
    "class Student(Person):\n",
    "    def __init__(self, name, age, address, student_id, major, gpa):\n",
    "        super().__init__(name, age, address)\n",
    "        self.student_id = student_id\n",
    "        self.major = major\n",
    "        self.gpa = gpa\n",
    "    \n",
    "    def display_academics(self):\n",
    "        print(f\"Student ID: {self.student_id}\")\n",
    "        print(f\"Major: {self.major}\")\n",
    "        print(f\"GPA: {self.gpa:.2f}\")\n",
    "\n",
    "\n",
    "def print_person_info(person):\n",
    "    if isinstance(person, Employee):\n",
    "        person.calculate_salary()\n",
    "    elif isinstance(person, Faculty):\n",
    "        person.teach_course()\n",
    "    elif isinstance(person, Student):\n",
    "        person.display_academics()\n",
    "    else:\n",
    "        person.display_info()\n",
    "    print()\n",
    "\n",
    "\n",
    "persons = [\n",
    "    Person(\"Muhammad Abdullah\", 21, \"Islamabad, Pakistan\"),\n",
    "    Employee(\"FrontEnd Developer\", 21, \"islamabad ,Pakistan\", \"E9342\", \"Web Development\", 500000),\n",
    "    Faculty(\"Dr.Ijlal Haider\", 27, \"Islamabad ,Pakistan\", \"F0100\", \"CS\", 7000000, \"Python\"),\n",
    "    Student(\"M.Abdullah\", 20, \"i-12,Islamabad\", \"F22607010\", \"Artificial Intelligence\", 3.56)\n",
    "]\n",
    "\n",
    "for person in persons:\n",
    "    print_person_info(person)\n"
   ]
  }
 ],
 "metadata": {
  "kernelspec": {
   "display_name": "Python 3",
   "language": "python",
   "name": "python3"
  },
  "language_info": {
   "codemirror_mode": {
    "name": "ipython",
    "version": 3
   },
   "file_extension": ".py",
   "mimetype": "text/x-python",
   "name": "python",
   "nbconvert_exporter": "python",
   "pygments_lexer": "ipython3",
   "version": "3.11.5"
  }
 },
 "nbformat": 4,
 "nbformat_minor": 2
}
