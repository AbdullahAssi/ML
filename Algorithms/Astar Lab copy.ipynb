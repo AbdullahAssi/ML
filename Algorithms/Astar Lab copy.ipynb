{
 "cells": [
  {
   "cell_type": "markdown",
   "metadata": {},
   "source": [
    "<h1> Task 1: </h1>"
   ]
  },
  {
   "cell_type": "code",
   "execution_count": 2,
   "metadata": {},
   "outputs": [
    {
     "name": "stdout",
     "output_type": "stream",
     "text": [
      "Path from A to Z: ['A', 'C', 'D', 'E', 'Z']\n"
     ]
    }
   ],
   "source": [
    "import heapq\n",
    "\n",
    "class Node:\n",
    "    def __init__(self, state, parent=None, g_cost=0, h_cost=0):\n",
    "        self.state = state\n",
    "        self.parent = parent\n",
    "        self.g_cost = g_cost  \n",
    "        self.h_cost = h_cost  \n",
    "\n",
    "    def __lt__(self, other):\n",
    "        return (self.g_cost + self.h_cost) < (other.g_cost + other.h_cost)\n",
    "\n",
    "def a_star(start, goal, edges, heuristic=lambda state: 0):\n",
    "    open_set = [Node(start, None, 0, heuristic(start))]\n",
    "    closed_set = set()\n",
    "\n",
    "    while open_set:\n",
    "        current_node = heapq.heappop(open_set)\n",
    "\n",
    "        if current_node.state == goal:\n",
    "            path = []\n",
    "            while current_node:\n",
    "                path.append(current_node.state)\n",
    "                current_node = current_node.parent\n",
    "            return path[::-1]\n",
    "\n",
    "        closed_set.add(current_node.state)\n",
    "\n",
    "        for neighbor, cost in edges.get(current_node.state, []):\n",
    "            if neighbor not in closed_set:\n",
    "                g_cost = current_node.g_cost + cost\n",
    "                h_cost = heuristic(neighbor)\n",
    "                new_node = Node(neighbor, current_node, g_cost, h_cost)\n",
    "\n",
    "                if new_node not in open_set:\n",
    "                    heapq.heappush(open_set, new_node)\n",
    "\n",
    "    return None  \n",
    "\n",
    "edges = {\n",
    "    'A': [('C', 3), ('B', 4)],\n",
    "    'B': [('E', 12), ('F', 5)],\n",
    "    'C': [('E',10), ('D', 7)],\n",
    "    'D': [('E', 2)],\n",
    "    'E': [('Z', 5)],\n",
    "    'F': [('Z',16)],\n",
    "    'Z': []\n",
    "}\n",
    "\n",
    "start_state = 'A'\n",
    "goal_state = 'Z'\n",
    "\n",
    "\n",
    "path = a_star(start_state, goal_state, edges)\n",
    "\n",
    "\n",
    "if path:\n",
    "    print(f\"Path from {start_state} to {goal_state}: {path}\")\n",
    "else:\n",
    "    print(f\"No path found from {start_state} to {goal_state}.\")\n"
   ]
  },
  {
   "cell_type": "markdown",
   "metadata": {},
   "source": [
    "<h1>Task 2</h1>"
   ]
  },
  {
   "cell_type": "code",
   "execution_count": 1,
   "metadata": {},
   "outputs": [
    {
     "name": "stdout",
     "output_type": "stream",
     "text": [
      "Path from S to G: ['S', 'A', 'C', 'D', 'G']\n"
     ]
    }
   ],
   "source": [
    "import heapq\n",
    "\n",
    "class Node:\n",
    "    def __init__(self, state, parent=None, g_cost=0, h_cost=0):\n",
    "        self.state = state\n",
    "        self.parent = parent\n",
    "        self.g_cost = g_cost  \n",
    "        self.h_cost = h_cost  \n",
    "\n",
    "    def __lt__(self, other):\n",
    "        return (self.g_cost + self.h_cost) < (other.g_cost + other.h_cost)\n",
    "\n",
    "def a_star(start, goal, edges, heuristic=lambda state: 0):\n",
    "    open_set = [Node(start, None, 0, heuristic(start))]\n",
    "    closed_set = set()\n",
    "\n",
    "    while open_set:\n",
    "        current_node = heapq.heappop(open_set)\n",
    "\n",
    "        if current_node.state == goal:\n",
    "            path = []\n",
    "            while current_node:\n",
    "                path.append(current_node.state)\n",
    "                current_node = current_node.parent\n",
    "            return path[::-1]\n",
    "\n",
    "        closed_set.add(current_node.state)\n",
    "\n",
    "        for neighbor, cost in edges.get(current_node.state, []):\n",
    "            if neighbor not in closed_set:\n",
    "                g_cost = current_node.g_cost + cost\n",
    "                h_cost = heuristic(neighbor)\n",
    "                new_node = Node(neighbor, current_node, g_cost, h_cost)\n",
    "\n",
    "                if new_node not in open_set:\n",
    "                    heapq.heappush(open_set, new_node)\n",
    "\n",
    "    return None  \n",
    "\n",
    "edges = {\n",
    "    'S': [('A', 1), ('G', 10)],\n",
    "    'A': [('B', 2), ('C', 1)],\n",
    "    'B': [('D', 5)],\n",
    "    'C': [('D',3), ('G', 4)],\n",
    "    'D': [('G', 0)],\n",
    "    'G': []\n",
    "}\n",
    "\n",
    "start_state = 'S'\n",
    "goal_state = 'G'\n",
    "\n",
    "path = a_star(start_state, goal_state, edges)\n",
    "\n",
    "\n",
    "if path:\n",
    "    print(f\"Path from {start_state} to {goal_state}: {path}\")\n",
    "else:\n",
    "    print(f\"No path found from {start_state} to {goal_state}.\")\n"
   ]
  }
 ],
 "metadata": {
  "kernelspec": {
   "display_name": "base",
   "language": "python",
   "name": "python3"
  },
  "language_info": {
   "codemirror_mode": {
    "name": "ipython",
    "version": 3
   },
   "file_extension": ".py",
   "mimetype": "text/x-python",
   "name": "python",
   "nbconvert_exporter": "python",
   "pygments_lexer": "ipython3",
   "version": "3.11.5"
  }
 },
 "nbformat": 4,
 "nbformat_minor": 2
}
