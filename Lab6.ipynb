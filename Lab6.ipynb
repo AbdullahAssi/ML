{
 "cells": [
  {
   "cell_type": "markdown",
   "metadata": {},
   "source": [
    "1.1Following code shows the implementation of a Queue in python where the length and elements of the queue are determined by the user."
   ]
  },
  {
   "cell_type": "code",
   "execution_count": 8,
   "metadata": {},
   "outputs": [
    {
     "name": "stdout",
     "output_type": "stream",
     "text": [
      "Queue size: 4\n",
      "Dequeueing elements:\n",
      "A\n",
      "B\n",
      "F\n",
      "G\n"
     ]
    }
   ],
   "source": [
    "class Queue:\n",
    "    def __init__(self):\n",
    "        self.queue = []\n",
    "\n",
    "    def enqueue(self, element):\n",
    "        self.queue.append(element)\n",
    "\n",
    "    def dequeue(self):\n",
    "        if not self.is_empty():\n",
    "            return self.queue.pop(0)\n",
    "        else:\n",
    "            return None\n",
    "\n",
    "    def is_empty(self):\n",
    "        return len(self.queue) == 0\n",
    "\n",
    "    def size(self):\n",
    "        return len(self.queue)\n",
    "\n",
    "\n",
    "queue = Queue()\n",
    "\n",
    "\n",
    "n = int(input(\"Enter the length of the queue: \"))\n",
    "for _ in range(n):\n",
    "    element = input(\"Enter an element to enqueue: \")\n",
    "    queue.enqueue(element)\n",
    "\n",
    "print(\"Queue size:\", queue.size())\n",
    "\n",
    "print(\"Dequeueing elements:\")\n",
    "while not queue.is_empty():\n",
    "    print(queue.dequeue())\n"
   ]
  },
  {
   "cell_type": "markdown",
   "metadata": {},
   "source": [
    "1.2Following code shows the implementation of a Stack in python where the length and elements of the stack are determined by the user."
   ]
  },
  {
   "cell_type": "code",
   "execution_count": 9,
   "metadata": {},
   "outputs": [
    {
     "name": "stdout",
     "output_type": "stream",
     "text": [
      "Stack size: 4\n",
      "Popping elements:\n",
      "G\n",
      "F\n",
      "B\n",
      "A\n"
     ]
    }
   ],
   "source": [
    "class Stack:\n",
    "    def __init__(self):\n",
    "        self.stack = []\n",
    "\n",
    "    def push(self, element):\n",
    "        self.stack.append(element)\n",
    "\n",
    "    def pop(self):\n",
    "        if not self.is_empty():\n",
    "            return self.stack.pop()\n",
    "        else:\n",
    "            return None\n",
    "\n",
    "    def is_empty(self):\n",
    "        return len(self.stack) == 0\n",
    "\n",
    "    def size(self):\n",
    "        return len(self.stack)\n",
    "\n",
    "\n",
    "# Example usage:\n",
    "stack = Stack()\n",
    "\n",
    "# Take elements and length of stack from the user\n",
    "n = int(input(\"Enter the length of the stack: \"))\n",
    "for _ in range(n):\n",
    "    element = input(\"Enter an element to push: \")\n",
    "    stack.push(element)\n",
    "\n",
    "print(\"Stack size:\", stack.size())\n",
    "\n",
    "print(\"Popping elements:\")\n",
    "while not stack.is_empty():\n",
    "    print(stack.pop())\n"
   ]
  },
  {
   "cell_type": "markdown",
   "metadata": {},
   "source": [
    "1.3 Following code shows the implementation of Breadth First Search Algorithm which uses queue (FIFO) as it is its inherent property."
   ]
  },
  {
   "cell_type": "code",
   "execution_count": 6,
   "metadata": {},
   "outputs": [
    {
     "name": "stdout",
     "output_type": "stream",
     "text": [
      "{'A': ['B', 'C'], 'B': ['A', 'D', 'E'], 'C': ['A', 'F'], 'D': ['B'], 'E': ['B', 'F'], 'F': ['C', 'E']}\n",
      "A\n",
      "B\n",
      "C\n",
      "D\n",
      "E\n",
      "F\n"
     ]
    }
   ],
   "source": [
    "from collections import deque # Use the deque class from the collections module to represent the queue\n",
    "\n",
    "def bfs(graph, start): # Breadth-first search function with graph and starting node as inputs\n",
    "    visited = set()  # Set to keep track of visited nodes\n",
    "    queue = deque([start])  # Queue to store nodes to be visited\n",
    "    \n",
    "    while queue: \n",
    "        node = queue.popleft()  # Get the next node from the queue\n",
    "        if node not in visited:\n",
    "            print(node)  # Process the node (in this case, we print it)\n",
    "            visited.add(node)  # Mark the node as visited\n",
    "            \n",
    "            # Add the neighbors of the current node to the queue\n",
    "            for neighbor in graph[node]:\n",
    "                if neighbor not in visited:\n",
    "                    queue.append(neighbor)\n",
    "\n",
    "# Example usage:\n",
    "graph = {\n",
    "    'A': ['B', 'C'],\n",
    "    'B': ['A', 'D', 'E'],\n",
    "    'C': ['A', 'F'],\n",
    "    'D': ['B'],\n",
    "    'E': ['B', 'F'],\n",
    "    'F': ['C', 'E']\n",
    "}\n",
    "print(graph)\n",
    "bfs(graph, 'A')\n",
    "\n",
    "\n"
   ]
  },
  {
   "cell_type": "markdown",
   "metadata": {},
   "source": [
    "1.4 Following code shows the implementation of Depth First Search Algorithm notice here we are not using dequeing because  DFS works on LIFO."
   ]
  },
  {
   "cell_type": "code",
   "execution_count": 7,
   "metadata": {},
   "outputs": [
    {
     "name": "stdout",
     "output_type": "stream",
     "text": [
      "{'A': ['B', 'C'], 'B': ['A', 'D', 'E'], 'C': ['A', 'F'], 'D': ['B'], 'E': ['B', 'F'], 'F': ['C', 'E']}\n",
      "A\n",
      "B\n",
      "D\n",
      "E\n",
      "F\n",
      "C\n"
     ]
    }
   ],
   "source": [
    "def dfs(graph, start, visited=None): #we are defining a function dfs with 3 parameters, \n",
    "    #graph is the graph we are using, start is the starting node and visited is the set of visited nodes\n",
    "    if visited is None: #if visited is None, we create a new set of visited nodes because we are starting from the beginning\n",
    "        visited = set() #we create a new set of visited nodes if visited is None\n",
    "    visited.add(start) #we add the starting node to the set of visited nodes to mark it as visited and prevent infinite loops\n",
    "    print(start)  # Process the node (in this case, we print it)\n",
    "    for neighbor in graph[start]:#we iterate through the neighbors of the starting node to proceed to the next node\n",
    "        if neighbor not in visited:#if the neighbor is not in the set of visited nodes, we call the dfs function again \n",
    "            #because we need to visit the neighbors of the neighbor this is how the recursion works\n",
    "            dfs(graph, neighbor, visited) #we call the dfs function again with the neighbor as the starting node and the visited set\n",
    "\n",
    "# Example usage:\n",
    "graph = {\n",
    "    'A': ['B', 'C'],\n",
    "    'B': ['A', 'D', 'E'],\n",
    "    'C': ['A', 'F'],\n",
    "    'D': ['B'],\n",
    "    'E': ['B', 'F'],\n",
    "    'F': ['C', 'E']\n",
    "}\n",
    "print(graph)\n",
    "dfs(graph, 'A')\n"
   ]
  },
  {
   "cell_type": "markdown",
   "metadata": {},
   "source": [
    "1.5 Following code shows the implementation of a Binary Search Tree which is traversed twice using both BFS and DFS."
   ]
  },
  {
   "cell_type": "code",
   "execution_count": 5,
   "metadata": {},
   "outputs": [
    {
     "name": "stdout",
     "output_type": "stream",
     "text": [
      "BFS:\n",
      "5\n",
      "3\n",
      "7\n",
      "2\n",
      "4\n",
      "6\n",
      "8\n",
      "DFS:\n",
      "5\n",
      "3\n",
      "2\n",
      "4\n",
      "7\n",
      "6\n",
      "8\n"
     ]
    }
   ],
   "source": [
    "class Node:\n",
    "    def __init__(self, value):\n",
    "        self.value = value\n",
    "        self.left = None\n",
    "        self.right = None\n",
    "# in the code above we have defined a class Node with 3 attributes, value, left and right \n",
    "# we have initialized them to None because we don't know what the values will be yet\n",
    "\n",
    "class BinarySearchTree:\n",
    "    def __init__(self):\n",
    "        self.root = None\n",
    "# in the code above we have defined a class BinarySearchTree with one attribute, root which is initialized to None for the same reason as above\n",
    "\n",
    "    def insert(self, value):\n",
    "        if self.root is None:\n",
    "            self.root = Node(value)\n",
    "        else:\n",
    "            self._insert_recursive(self.root, value)\n",
    "# in the code above we have defined a function insert with 2 parameters, self and value this function is used to insert a new node into the tree \n",
    "# which will be the root if the root is None\n",
    "    def _insert_recursive(self, node, value): #here we have defined a function _insert_recursive with 2 parameters\n",
    "        #node and value this function is used to insert a new node into the tree and is different from the insert function because it is a recursive function\n",
    "        if value < node.value:\n",
    "            if node.left is None:\n",
    "                node.left = Node(value)\n",
    "            else:\n",
    "                self._insert_recursive(node.left, value)\n",
    "        else:\n",
    "            if node.right is None:\n",
    "                node.right = Node(value)\n",
    "            else:\n",
    "                self._insert_recursive(node.right, value)\n",
    "#in the code above we have defined a function _insert_recursive with 2 parameters, node and value this function is used to insert a new node into the tree  \n",
    "    def search(self, value):\n",
    "        return self._search_recursive(self.root, value)\n",
    "#this function is used to search for a node in the tree with a given value\n",
    "    def _search_recursive(self, node, value):\n",
    "        if node is None or node.value == value:\n",
    "            return node\n",
    "        if value < node.value:\n",
    "            return self._search_recursive(node.left, value)\n",
    "        return self._search_recursive(node.right, value)\n",
    "#this function is used to search for a node in the tree with a given value and is different from the search function because \n",
    "# it is a recursive function it will search for the node in the left subtree if the value is less than the value of the current node \n",
    "# and in the right subtree if the value is greater than the value of the current node which is why we need recusrion here \n",
    "    def delete(self, value):\n",
    "        self.root = self._delete_recursive(self.root, value)\n",
    "#this function is used to delete a node from the tree with a given value\n",
    "    def _delete_recursive(self, node, value):\n",
    "        if node is None:\n",
    "            return node\n",
    "        if value < node.value:\n",
    "            node.left = self._delete_recursive(node.left, value)\n",
    "        elif value > node.value:\n",
    "            node.right = self._delete_recursive(node.right, value)\n",
    "        else:\n",
    "            if node.left is None:\n",
    "                return node.right\n",
    "            elif node.right is None:\n",
    "                return node.left\n",
    "            min_node = self._find_min_node(node.right)\n",
    "            node.value = min_node.value\n",
    "            node.right = self._delete_recursive(node.right, min_node.value)\n",
    "        return node\n",
    "#this function is used to delete a node from the tree with a given value and is different from the delete function because it is a recursive function\n",
    "    def _find_min_node(self, node):\n",
    "        current = node\n",
    "        while current.left is not None:\n",
    "            current = current.left\n",
    "        return current\n",
    "\n",
    "    def print_bfs(self):\n",
    "        if self.root is None:\n",
    "            return\n",
    "        queue = [self.root]\n",
    "        while queue:\n",
    "            node = queue.pop(0)\n",
    "            print(node.value)\n",
    "            if node.left:\n",
    "                queue.append(node.left)\n",
    "            if node.right:\n",
    "                queue.append(node.right)\n",
    "\n",
    "    def print_dfs(self):\n",
    "        if self.root is None:\n",
    "            return\n",
    "        self._print_dfs_recursive(self.root)\n",
    "\n",
    "    def _print_dfs_recursive(self, node):\n",
    "        if node is None:\n",
    "            return\n",
    "        print(node.value)\n",
    "        self._print_dfs_recursive(node.left)\n",
    "        self._print_dfs_recursive(node.right)\n",
    "\n",
    "\n",
    "# Example usage:\n",
    "bst = BinarySearchTree()\n",
    "bst.insert(5)\n",
    "bst.insert(3)\n",
    "bst.insert(7)\n",
    "bst.insert(2)\n",
    "bst.insert(4)\n",
    "bst.insert(6)\n",
    "bst.insert(8)\n",
    "\n",
    "print(\"BFS:\")\n",
    "bst.print_bfs()\n",
    "\n",
    "print(\"DFS:\")\n",
    "bst.print_dfs()\n"
   ]
  },
  {
   "cell_type": "markdown",
   "metadata": {},
   "source": [
    "Lab Tasks\n",
    " \n",
    "1. Modify 1.3 and 1.4 such that the nodes and the neighbors are defined by the user.\n",
    "2. "
   ]
  }
 ],
 "metadata": {
  "kernelspec": {
   "display_name": "base",
   "language": "python",
   "name": "python3"
  },
  "language_info": {
   "codemirror_mode": {
    "name": "ipython",
    "version": 3
   },
   "file_extension": ".py",
   "mimetype": "text/x-python",
   "name": "python",
   "nbconvert_exporter": "python",
   "pygments_lexer": "ipython3",
   "version": "3.11.5"
  }
 },
 "nbformat": 4,
 "nbformat_minor": 2
}
