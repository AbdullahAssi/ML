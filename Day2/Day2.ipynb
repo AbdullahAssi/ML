{
 "cells": [
  {
   "cell_type": "markdown",
   "metadata": {},
   "source": [
    "Task no 5"
   ]
  },
  {
   "cell_type": "code",
   "execution_count": null,
   "metadata": {},
   "outputs": [],
   "source": [
    "import sys\n",
    "\n",
    "try:\n",
    "    # x = 1 / 0\n",
    "    print(\"Hello from Try Block\")\n",
    "except Exception as e:\n",
    "    print(\"An error occurred:\", e)\n",
    "    sys.exit(0) \n",
    "\n",
    "print(\"This code will not be executed if an exception occurs\")\n",
    "\n",
    "\n",
    "\n"
   ]
  }
 ],
 "metadata": {
  "language_info": {
   "name": "python"
  }
 },
 "nbformat": 4,
 "nbformat_minor": 2
}
